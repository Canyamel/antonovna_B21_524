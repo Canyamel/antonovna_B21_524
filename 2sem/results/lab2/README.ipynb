{
 "cells": [
  {
   "cell_type": "code",
   "execution_count": 16,
   "metadata": {},
   "outputs": [],
   "source": [
    "import numpy as np\n",
    "from PIL import Image"
   ]
  },
  {
   "cell_type": "code",
   "execution_count": 17,
   "metadata": {},
   "outputs": [],
   "source": [
    "def grey(input: np.array) -> np.array:\n",
    "    H, W = input.shape[:2]\n",
    "    output = np.zeros((H, W), dtype=input.dtype)\n",
    "\n",
    "    R = input[:, :, 0]\n",
    "    G = input[:, :, 1]\n",
    "    B = input[:, :, 2]\n",
    "    output = 0.2126*R + 0.7152*G + 0.0722*B\n",
    "\n",
    "    return output"
   ]
  },
  {
   "cell_type": "code",
   "execution_count": 18,
   "metadata": {},
   "outputs": [],
   "source": [
    "def binarization(input: np.array, d: int, t: float) -> np.array:\n",
    "    H, W = input.shape[:2]\n",
    "    output = np.zeros((H, W), dtype=input.dtype)\n",
    "    r = W  // (d * 2)\n",
    "\n",
    "    intImg = input.cumsum(axis=0).cumsum(axis=1)\n",
    "\n",
    "    i, j = np.meshgrid(np.arange(W), np.arange(H))\n",
    "    w1 = np.maximum(i - r, 0)\n",
    "    w2 = np.minimum(i + r, W - 1)\n",
    "    h1 = np.maximum(j - r, 0)\n",
    "    h2 = np.minimum(j + r, H - 1)\n",
    "\n",
    "    count = (w2 - w1) * (h2 - h1)\n",
    "    sum_val = intImg[h2, w2] - intImg[h1 + 1, w2] - intImg[h2, w1 + 1] + intImg[h1 + 1, w1 + 1]\n",
    "\n",
    "    mask = input * count <= sum_val * (1 - t)\n",
    "    output[mask] = 0\n",
    "    output[~mask] = 255\n",
    "\n",
    "    return output"
   ]
  },
  {
   "cell_type": "code",
   "execution_count": 19,
   "metadata": {},
   "outputs": [],
   "source": [
    "input_image = Image.open('1/input/207_12.png').convert('RGB')\n",
    "input_array = np.array(input_image)\n",
    "\n",
    "greyArray = grey(input_array)\n",
    "newArray = binarization(greyArray, 8, 0.15)\n",
    "\n",
    "newImg = Image.fromarray(newArray)\n",
    "newImg.show()"
   ]
  }
 ],
 "metadata": {
  "kernelspec": {
   "display_name": "base",
   "language": "python",
   "name": "python3"
  },
  "language_info": {
   "codemirror_mode": {
    "name": "ipython",
    "version": 3
   },
   "file_extension": ".py",
   "mimetype": "text/x-python",
   "name": "python",
   "nbconvert_exporter": "python",
   "pygments_lexer": "ipython3",
   "version": "3.9.5"
  }
 },
 "nbformat": 4,
 "nbformat_minor": 2
}
