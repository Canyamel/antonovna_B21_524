{
 "cells": [
  {
   "cell_type": "code",
   "execution_count": 41,
   "metadata": {},
   "outputs": [],
   "source": [
    "import numpy as np\n",
    "from PIL import Image\n",
    "import os"
   ]
  },
  {
   "cell_type": "code",
   "execution_count": 42,
   "metadata": {},
   "outputs": [],
   "source": [
    "def gray(input: np.array) -> np.array:\n",
    "    H, W = input.shape[:2]\n",
    "    output = np.zeros((H, W), dtype=input.dtype)\n",
    "\n",
    "    R = input[:, :, 0]\n",
    "    G = input[:, :, 1]\n",
    "    B = input[:, :, 2]\n",
    "    output = 0.2126*R + 0.7152*G + 0.0722*B\n",
    "    return output"
   ]
  },
  {
   "cell_type": "code",
   "execution_count": 43,
   "metadata": {},
   "outputs": [],
   "source": [
    "def roberts(input: np.array) -> np.array:\n",
    "    H, W = input.shape[:2]\n",
    "\n",
    "    sobelX = np.array([[0, 0, 0],\n",
    "                    [0, -1, 0],\n",
    "                    [0, 0, 1]])\n",
    "\n",
    "    sobelY = np.array([[0, 0, 0],\n",
    "                    [0, 0, -1],\n",
    "                    [0, 1, 0]])\n",
    "\n",
    "    gradientX = np.zeros((H, W))\n",
    "    gradientY = np.zeros((H, W))\n",
    "\n",
    "    tempArray = np.zeros((H+2, W+2))\n",
    "    tempArray[1:-1, 1:-1] = input\n",
    "\n",
    "    for i in range(1, W+1):\n",
    "        for j in range(1, H+1):\n",
    "            gradientX[j-1, i-1] = np.abs(np.sum(sobelX * tempArray[j-1 : j+2, i-1 : i+2]))\n",
    "            gradientY[j-1, i-1] = np.abs(np.sum(sobelY * tempArray[j-1 : j+2, i-1 : i+2]))\n",
    "\n",
    "    gradient = (gradientX ** 2 + gradientY ** 2) ** (1/2)\n",
    "\n",
    "    return gradient\n"
   ]
  },
  {
   "cell_type": "code",
   "execution_count": 44,
   "metadata": {},
   "outputs": [],
   "source": [
    "def gradientX(input: np.array) -> np.array:\n",
    "    H, W = input.shape[:2]\n",
    "\n",
    "    sobelX = np.array([[0, 0, 0],\n",
    "                    [0, -1, 0],\n",
    "                    [0, 0, 1]])\n",
    "\n",
    "    gradientX = np.zeros((H, W))\n",
    "\n",
    "    tempArray = np.zeros((H+2, W+2))\n",
    "    tempArray[1:-1, 1:-1] = input\n",
    "\n",
    "    for i in range(1, W+1):\n",
    "        for j in range(1, H+1):\n",
    "            gradientX[j-1, i-1] = np.abs(np.sum(sobelX * tempArray[j-1 : j+2, i-1 : i+2]))\n",
    "\n",
    "    return gradientX"
   ]
  },
  {
   "cell_type": "code",
   "execution_count": 45,
   "metadata": {},
   "outputs": [],
   "source": [
    "def gradientY(input: np.array) -> np.array:\n",
    "    H, W = input.shape[:2]\n",
    "\n",
    "    sobelY = np.array([[0, 0, 0],\n",
    "                    [0, 0, -1],\n",
    "                    [0, 1, 0]])\n",
    "\n",
    "    gradientY = np.zeros((H, W))\n",
    "\n",
    "    tempArray = np.zeros((H+2, W+2))\n",
    "    tempArray[1:-1, 1:-1] = input\n",
    "\n",
    "    for i in range(1, W+1):\n",
    "        for j in range(1, H+1):\n",
    "            gradientY[j-1, i-1] = np.abs(np.sum(sobelY * tempArray[j-1 : j+2, i-1 : i+2]))\n",
    "\n",
    "    return gradientY"
   ]
  },
  {
   "cell_type": "code",
   "execution_count": 46,
   "metadata": {},
   "outputs": [],
   "source": [
    "def binarization(input: np.array, threshold: int) -> np.array:\n",
    "    output = np.where(input > threshold, 255, 0)\n",
    "    return output"
   ]
  },
  {
   "cell_type": "code",
   "execution_count": 47,
   "metadata": {},
   "outputs": [],
   "source": [
    "inputFolder = \"input/\"\n",
    "outputFolder = \"output/gray/\"\n",
    "\n",
    "strArray = os.listdir(inputFolder)\n",
    "\n",
    "for fileName in strArray:\n",
    "    inputStr = inputFolder + fileName\n",
    "\n",
    "    inputImg = Image.open(inputStr).convert('RGB')\n",
    "    inputArray = np.array(inputImg)\n",
    "\n",
    "    outputArray = gray(inputArray)\n",
    "\n",
    "    outputImg = Image.fromarray(outputArray)\n",
    "    outputImg = outputImg.convert(\"L\")\n",
    "    outputStr = outputFolder + fileName\n",
    "\n",
    "    outputImg.save(outputStr)"
   ]
  },
  {
   "cell_type": "code",
   "execution_count": 48,
   "metadata": {},
   "outputs": [],
   "source": [
    "inputFolder = \"output/gray/\"\n",
    "outputFolder = \"output/gradientX/\"\n",
    "\n",
    "strArray = os.listdir(inputFolder)\n",
    "\n",
    "for fileName in strArray:\n",
    "    inputStr = inputFolder + fileName\n",
    "\n",
    "    inputImg = Image.open(inputStr)\n",
    "    inputArray = np.array(inputImg)\n",
    "\n",
    "    outputArray = gradientX(inputArray)\n",
    "\n",
    "    outputImg = Image.fromarray(outputArray)\n",
    "    outputImg = outputImg.convert(\"L\")\n",
    "    outputStr = outputFolder + fileName\n",
    "\n",
    "    outputImg.save(outputStr)"
   ]
  },
  {
   "cell_type": "code",
   "execution_count": 49,
   "metadata": {},
   "outputs": [
    {
     "ename": "KeyboardInterrupt",
     "evalue": "",
     "output_type": "error",
     "traceback": [
      "\u001b[1;31m---------------------------------------------------------------------------\u001b[0m",
      "\u001b[1;31mKeyboardInterrupt\u001b[0m                         Traceback (most recent call last)",
      "Cell \u001b[1;32mIn[49], line 12\u001b[0m\n\u001b[0;32m      9\u001b[0m inputImg \u001b[39m=\u001b[39m Image\u001b[39m.\u001b[39mopen(inputStr)\n\u001b[0;32m     10\u001b[0m inputArray \u001b[39m=\u001b[39m np\u001b[39m.\u001b[39marray(inputImg)\n\u001b[1;32m---> 12\u001b[0m outputArray \u001b[39m=\u001b[39m gradientY(inputArray)\n\u001b[0;32m     14\u001b[0m outputImg \u001b[39m=\u001b[39m Image\u001b[39m.\u001b[39mfromarray(outputArray)\n\u001b[0;32m     15\u001b[0m outputImg \u001b[39m=\u001b[39m outputImg\u001b[39m.\u001b[39mconvert(\u001b[39m\"\u001b[39m\u001b[39mL\u001b[39m\u001b[39m\"\u001b[39m)\n",
      "Cell \u001b[1;32mIn[45], line 15\u001b[0m, in \u001b[0;36mgradientY\u001b[1;34m(input)\u001b[0m\n\u001b[0;32m     13\u001b[0m \u001b[39mfor\u001b[39;00m i \u001b[39min\u001b[39;00m \u001b[39mrange\u001b[39m(\u001b[39m1\u001b[39m, W\u001b[39m+\u001b[39m\u001b[39m1\u001b[39m):\n\u001b[0;32m     14\u001b[0m     \u001b[39mfor\u001b[39;00m j \u001b[39min\u001b[39;00m \u001b[39mrange\u001b[39m(\u001b[39m1\u001b[39m, H\u001b[39m+\u001b[39m\u001b[39m1\u001b[39m):\n\u001b[1;32m---> 15\u001b[0m         gradientY[j\u001b[39m-\u001b[39m\u001b[39m1\u001b[39m, i\u001b[39m-\u001b[39m\u001b[39m1\u001b[39m] \u001b[39m=\u001b[39m np\u001b[39m.\u001b[39mabs(np\u001b[39m.\u001b[39;49msum(sobelY \u001b[39m*\u001b[39;49m tempArray[j\u001b[39m-\u001b[39;49m\u001b[39m1\u001b[39;49m : j\u001b[39m+\u001b[39;49m\u001b[39m2\u001b[39;49m, i\u001b[39m-\u001b[39;49m\u001b[39m1\u001b[39;49m : i\u001b[39m+\u001b[39;49m\u001b[39m2\u001b[39;49m]))\n\u001b[0;32m     17\u001b[0m \u001b[39mreturn\u001b[39;00m gradientY\n",
      "File \u001b[1;32mc:\\Users\\User\\AppData\\Local\\Programs\\Python\\Python39\\lib\\site-packages\\numpy\\core\\fromnumeric.py:2313\u001b[0m, in \u001b[0;36msum\u001b[1;34m(a, axis, dtype, out, keepdims, initial, where)\u001b[0m\n\u001b[0;32m   2310\u001b[0m         \u001b[39mreturn\u001b[39;00m out\n\u001b[0;32m   2311\u001b[0m     \u001b[39mreturn\u001b[39;00m res\n\u001b[1;32m-> 2313\u001b[0m \u001b[39mreturn\u001b[39;00m _wrapreduction(a, np\u001b[39m.\u001b[39;49madd, \u001b[39m'\u001b[39;49m\u001b[39msum\u001b[39;49m\u001b[39m'\u001b[39;49m, axis, dtype, out, keepdims\u001b[39m=\u001b[39;49mkeepdims,\n\u001b[0;32m   2314\u001b[0m                       initial\u001b[39m=\u001b[39;49minitial, where\u001b[39m=\u001b[39;49mwhere)\n",
      "File \u001b[1;32mc:\\Users\\User\\AppData\\Local\\Programs\\Python\\Python39\\lib\\site-packages\\numpy\\core\\fromnumeric.py:72\u001b[0m, in \u001b[0;36m_wrapreduction\u001b[1;34m(obj, ufunc, method, axis, dtype, out, **kwargs)\u001b[0m\n\u001b[0;32m     71\u001b[0m \u001b[39mdef\u001b[39;00m \u001b[39m_wrapreduction\u001b[39m(obj, ufunc, method, axis, dtype, out, \u001b[39m*\u001b[39m\u001b[39m*\u001b[39mkwargs):\n\u001b[1;32m---> 72\u001b[0m     passkwargs \u001b[39m=\u001b[39m {k: v \u001b[39mfor\u001b[39;00m k, v \u001b[39min\u001b[39;00m kwargs\u001b[39m.\u001b[39mitems()\n\u001b[0;32m     73\u001b[0m                   \u001b[39mif\u001b[39;00m v \u001b[39mis\u001b[39;00m \u001b[39mnot\u001b[39;00m np\u001b[39m.\u001b[39m_NoValue}\n\u001b[0;32m     75\u001b[0m     \u001b[39mif\u001b[39;00m \u001b[39mtype\u001b[39m(obj) \u001b[39mis\u001b[39;00m \u001b[39mnot\u001b[39;00m mu\u001b[39m.\u001b[39mndarray:\n\u001b[0;32m     76\u001b[0m         \u001b[39mtry\u001b[39;00m:\n",
      "File \u001b[1;32mc:\\Users\\User\\AppData\\Local\\Programs\\Python\\Python39\\lib\\site-packages\\numpy\\core\\fromnumeric.py:73\u001b[0m, in \u001b[0;36m<dictcomp>\u001b[1;34m(.0)\u001b[0m\n\u001b[0;32m     71\u001b[0m \u001b[39mdef\u001b[39;00m \u001b[39m_wrapreduction\u001b[39m(obj, ufunc, method, axis, dtype, out, \u001b[39m*\u001b[39m\u001b[39m*\u001b[39mkwargs):\n\u001b[0;32m     72\u001b[0m     passkwargs \u001b[39m=\u001b[39m {k: v \u001b[39mfor\u001b[39;00m k, v \u001b[39min\u001b[39;00m kwargs\u001b[39m.\u001b[39mitems()\n\u001b[1;32m---> 73\u001b[0m                   \u001b[39mif\u001b[39;00m v \u001b[39mis\u001b[39;00m \u001b[39mnot\u001b[39;00m np\u001b[39m.\u001b[39;49m_NoValue}\n\u001b[0;32m     75\u001b[0m     \u001b[39mif\u001b[39;00m \u001b[39mtype\u001b[39m(obj) \u001b[39mis\u001b[39;00m \u001b[39mnot\u001b[39;00m mu\u001b[39m.\u001b[39mndarray:\n\u001b[0;32m     76\u001b[0m         \u001b[39mtry\u001b[39;00m:\n",
      "\u001b[1;31mKeyboardInterrupt\u001b[0m: "
     ]
    }
   ],
   "source": [
    "inputFolder = \"output/gray/\"\n",
    "outputFolder = \"output/gradientY/\"\n",
    "\n",
    "strArray = os.listdir(inputFolder)\n",
    "\n",
    "for fileName in strArray:\n",
    "    inputStr = inputFolder + fileName\n",
    "\n",
    "    inputImg = Image.open(inputStr)\n",
    "    inputArray = np.array(inputImg)\n",
    "\n",
    "    outputArray = gradientY(inputArray)\n",
    "\n",
    "    outputImg = Image.fromarray(outputArray)\n",
    "    outputImg = outputImg.convert(\"L\")\n",
    "    outputStr = outputFolder + fileName\n",
    "\n",
    "    outputImg.save(outputStr)"
   ]
  },
  {
   "cell_type": "code",
   "execution_count": 50,
   "metadata": {},
   "outputs": [],
   "source": [
    "inputFolderX = \"output/gradientX/\"\n",
    "inputFolderY = \"output/gradientY/\"\n",
    "outputFolder = \"output/gradient/\"\n",
    "\n",
    "strArray = os.listdir(inputFolder)\n",
    "\n",
    "for fileName in strArray:\n",
    "    inputStr = inputFolderX + fileName\n",
    "    inputImg = Image.open(inputStr)\n",
    "    gradientX = np.array(inputImg)\n",
    "\n",
    "    inputStr = inputFolderY + fileName\n",
    "    inputImg = Image.open(inputStr)\n",
    "    gradientY = np.array(inputImg)\n",
    "\n",
    "    gradient = (gradientX ** 2 + gradientY ** 2) ** (1/2)\n",
    "\n",
    "    outputImg = Image.fromarray(gradient)\n",
    "    outputImg = outputImg.convert(\"L\")\n",
    "    outputStr = outputFolder + fileName\n",
    "\n",
    "    outputImg.save(outputStr)"
   ]
  },
  {
   "cell_type": "code",
   "execution_count": null,
   "metadata": {},
   "outputs": [],
   "source": [
    "inputFolder = \"output/gradient/\"\n",
    "outputFolder = \"output/threshold/\"\n",
    "\n",
    "strArray = os.listdir(inputFolder)\n",
    "\n",
    "for fileName in strArray:\n",
    "    inputStr = inputFolder + fileName\n",
    "    inputImg = Image.open(inputStr)\n",
    "    inputArray = np.array(inputImg)\n",
    "    outputArray = binarization(inputArray, 13)\n",
    "\n",
    "    outputImg = Image.fromarray(outputArray)\n",
    "    outputImg = outputImg.convert(\"L\")\n",
    "    outputStr = outputFolder + fileName\n",
    "    outputImg.save(outputStr)\n"
   ]
  },
  {
   "cell_type": "code",
   "execution_count": null,
   "metadata": {},
   "outputs": [],
   "source": []
  }
 ],
 "metadata": {
  "kernelspec": {
   "display_name": "base",
   "language": "python",
   "name": "python3"
  },
  "language_info": {
   "codemirror_mode": {
    "name": "ipython",
    "version": 3
   },
   "file_extension": ".py",
   "mimetype": "text/x-python",
   "name": "python",
   "nbconvert_exporter": "python",
   "pygments_lexer": "ipython3",
   "version": "3.9.5"
  }
 },
 "nbformat": 4,
 "nbformat_minor": 2
}
