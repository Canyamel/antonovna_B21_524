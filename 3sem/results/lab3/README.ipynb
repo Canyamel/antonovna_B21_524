{
 "cells": [
  {
   "cell_type": "code",
   "execution_count": 1,
   "metadata": {},
   "outputs": [],
   "source": [
    "import numpy as np\n",
    "from PIL import Image\n",
    "import os"
   ]
  },
  {
   "cell_type": "code",
   "execution_count": 154,
   "metadata": {},
   "outputs": [],
   "source": [
    "def grey(input: np.array) -> np.array:\n",
    "    H, W = input.shape[:2]\n",
    "    output = np.zeros((H, W), dtype=input.dtype)\n",
    "\n",
    "    R = input[:, :, 0]\n",
    "    G = input[:, :, 1]\n",
    "    B = input[:, :, 2]\n",
    "    output = 0.2126*R + 0.7152*G + 0.0722*B\n",
    "    return output"
   ]
  },
  {
   "cell_type": "code",
   "execution_count": 155,
   "metadata": {},
   "outputs": [],
   "source": [
    "def gaussianMask(radius: int) -> np.array:\n",
    "  size = radius * 2 + 1\n",
    "  center = size // 2\n",
    "\n",
    "  i, j = np.indices((size, size))\n",
    "  distance = np.ceil(np.sqrt((i - center)**2 + (j - center)**2))\n",
    "\n",
    "  centerValue = 2**(radius + 1)\n",
    "  mask = np.maximum(centerValue // 2**distance, 1)\n",
    "  mask[center, center] = centerValue\n",
    "\n",
    "  mask = mask / np.sum(mask)\n",
    "\n",
    "  return mask"
   ]
  },
  {
   "cell_type": "code",
   "execution_count": 156,
   "metadata": {},
   "outputs": [],
   "source": [
    "def oneMask(radius: int) -> np.array:\n",
    "  size = radius * 2 + 1\n",
    "  center = size // 2\n",
    "\n",
    "  mask = np.ones((size, size))\n",
    "\n",
    "  mask = mask / np.sum(mask)\n",
    "\n",
    "  return mask"
   ]
  },
  {
   "cell_type": "code",
   "execution_count": 157,
   "metadata": {},
   "outputs": [],
   "source": [
    "def addBlackBorder(inputArray: np.array, borderSize: int) -> np.array:\n",
    "    H, W = inputArray.shape[:2]\n",
    "    newH = H + 2 * borderSize\n",
    "    newW = W + 2 * borderSize\n",
    "\n",
    "    outputArray = np.zeros((newH, newW))\n",
    "    outputArray[borderSize : borderSize + H, borderSize : borderSize + W] = inputArray\n",
    "\n",
    "    return outputArray"
   ]
  },
  {
   "cell_type": "code",
   "execution_count": 158,
   "metadata": {},
   "outputs": [],
   "source": [
    "def addWhiteBorder(inputArray: np.array, borderSize: int) -> np.array:\n",
    "    H, W = inputArray.shape[:2]\n",
    "    newH = H + 2 * borderSize\n",
    "    newW = W + 2 * borderSize\n",
    "\n",
    "    outputArray = np.ones((newH, newW)) * 255\n",
    "    outputArray[borderSize : borderSize + H, borderSize : borderSize + W] = inputArray\n",
    "\n",
    "    return outputArray"
   ]
  },
  {
   "cell_type": "code",
   "execution_count": 159,
   "metadata": {},
   "outputs": [],
   "source": [
    "def deleteBorder(inputArray: np.array, borderSize: int) -> np.array:\n",
    "    H, W = inputArray.shape[:2]\n",
    "    outputArray = inputArray[borderSize : H - borderSize, borderSize : W - borderSize]\n",
    "\n",
    "    return outputArray"
   ]
  },
  {
   "cell_type": "code",
   "execution_count": 170,
   "metadata": {},
   "outputs": [],
   "source": [
    "def filter_gaussian(inputArray: np.array, radius: int) -> np.array:\n",
    "    mask = gaussianMask(radius)\n",
    "\n",
    "    H, W = inputArray.shape[:2]\n",
    "    inputArray = addBlackBorder(inputArray, radius)\n",
    "    outputArray = np.copy(inputArray)\n",
    "\n",
    "    for i in range(radius, W + radius):\n",
    "        for j in range(radius, H + radius):\n",
    "            section = inputArray[j - radius : j + radius + 1, i - radius : i + radius + 1]\n",
    "            section = section * mask\n",
    "            outputArray[j, i] = np.sum(section)\n",
    "\n",
    "    outputArray = deleteBorder(outputArray, radius)\n",
    "    return outputArray"
   ]
  },
  {
   "cell_type": "code",
   "execution_count": 171,
   "metadata": {},
   "outputs": [],
   "source": [
    "def filter_one(inputArray: np.array, radius: int) -> np.array:\n",
    "    mask = oneMask(radius)\n",
    "\n",
    "    H, W = inputArray.shape[:2]\n",
    "    inputArray = addBlackBorder(inputArray, radius)\n",
    "    outputArray = np.copy(inputArray)\n",
    "\n",
    "    for i in range(radius, W + radius):\n",
    "        for j in range(radius, H + radius):\n",
    "            section = inputArray[j - radius : j + radius + 1, i - radius : i + radius + 1]\n",
    "            section = section * mask\n",
    "            outputArray[j, i] = np.sum(section)\n",
    "\n",
    "    outputArray = deleteBorder(outputArray, radius)\n",
    "    return outputArray"
   ]
  },
  {
   "cell_type": "code",
   "execution_count": 169,
   "metadata": {},
   "outputs": [],
   "source": [
    "inputFolder = \"input/\"\n",
    "outputFolder = \"output/gaussian/\"\n",
    "\n",
    "strArray = os.listdir(inputFolder)\n",
    "\n",
    "for fileName in strArray:\n",
    "    inputStr = inputFolder + fileName\n",
    "\n",
    "    inputImg = Image.open(inputStr).convert('RGB')\n",
    "    inputArray = np.array(inputImg)\n",
    "\n",
    "    greyArray = grey(inputArray)\n",
    "    outputArray = filter_gaussian(greyArray, 3)\n",
    "\n",
    "    outputImg = Image.fromarray(outputArray)\n",
    "    outputImg = outputImg.convert(\"L\")\n",
    "    outputStr = outputFolder + fileName\n",
    "    outputImg.save(outputStr)\n",
    "\n",
    "    diffArray = np.abs(greyArray - outputArray)\n",
    "\n",
    "    diffImg = Image.fromarray(diffArray)\n",
    "    diffImg = diffImg.convert(\"L\")\n",
    "    diffStr = outputFolder + \"/diff/\" + fileName\n",
    "    diffImg.save(diffStr)"
   ]
  },
  {
   "cell_type": "code",
   "execution_count": 172,
   "metadata": {},
   "outputs": [],
   "source": [
    "inputFolder = \"input/\"\n",
    "outputFolder = \"output/one/\"\n",
    "\n",
    "strArray = os.listdir(inputFolder)\n",
    "\n",
    "for fileName in strArray:\n",
    "    inputStr = inputFolder + fileName\n",
    "\n",
    "    inputImg = Image.open(inputStr).convert('RGB')\n",
    "    inputArray = np.array(inputImg)\n",
    "\n",
    "    greyArray = grey(inputArray)\n",
    "    outputArray = filter_one(greyArray, 3)\n",
    "\n",
    "    outputImg = Image.fromarray(outputArray)\n",
    "    outputImg = outputImg.convert(\"L\")\n",
    "    outputStr = outputFolder + fileName\n",
    "    outputImg.save(outputStr)\n",
    "\n",
    "    diffArray = np.abs(greyArray - outputArray)\n",
    "\n",
    "    diffImg = Image.fromarray(diffArray)\n",
    "    diffImg = diffImg.convert(\"L\")\n",
    "    diffStr = outputFolder + \"/diff/\" + fileName\n",
    "    diffImg.save(diffStr)"
   ]
  },
  {
   "attachments": {},
   "cell_type": "markdown",
   "metadata": {},
   "source": []
  }
 ],
 "metadata": {
  "kernelspec": {
   "display_name": "Python 3",
   "language": "python",
   "name": "python3"
  },
  "language_info": {
   "codemirror_mode": {
    "name": "ipython",
    "version": 3
   },
   "file_extension": ".py",
   "mimetype": "text/x-python",
   "name": "python",
   "nbconvert_exporter": "python",
   "pygments_lexer": "ipython3",
   "version": "3.9.5"
  },
  "orig_nbformat": 4
 },
 "nbformat": 4,
 "nbformat_minor": 2
}
